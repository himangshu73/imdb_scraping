{
 "cells": [
  {
   "cell_type": "code",
   "execution_count": 275,
   "id": "673051c8",
   "metadata": {},
   "outputs": [],
   "source": [
    "import requests\n",
    "from bs4 import BeautifulSoup\n",
    "import pandas as pd"
   ]
  },
  {
   "cell_type": "code",
   "execution_count": 276,
   "id": "0900c05a",
   "metadata": {},
   "outputs": [],
   "source": [
    "url = 'https://www.imdb.com/chart/top/?ref_=nv_mv_250'\n",
    "headers = {'User-Agent':'Mozilla/5.0 (Windows NT 10.0; Win64; x64; rv:109.0) Gecko/20100101 Firefox/116.0'}"
   ]
  },
  {
   "cell_type": "code",
   "execution_count": 277,
   "id": "8a0c6a9d",
   "metadata": {},
   "outputs": [],
   "source": [
    "response = requests.get(url,headers=headers)"
   ]
  },
  {
   "cell_type": "code",
   "execution_count": 278,
   "id": "89f9ad04",
   "metadata": {},
   "outputs": [
    {
     "data": {
      "text/plain": [
       "<Response [200]>"
      ]
     },
     "execution_count": 278,
     "metadata": {},
     "output_type": "execute_result"
    }
   ],
   "source": [
    "response"
   ]
  },
  {
   "cell_type": "code",
   "execution_count": 279,
   "id": "9c4c33f1",
   "metadata": {},
   "outputs": [],
   "source": [
    "soup = BeautifulSoup(response.text,'lxml')"
   ]
  },
  {
   "cell_type": "code",
   "execution_count": 280,
   "id": "2b9ee0c8",
   "metadata": {},
   "outputs": [],
   "source": [
    "titles = soup.find_all(\"h3\",class_='ipc-title__text')"
   ]
  },
  {
   "cell_type": "code",
   "execution_count": 281,
   "id": "5b4d0ef0",
   "metadata": {},
   "outputs": [],
   "source": [
    "movie_title = []\n",
    "for title in titles:\n",
    "    movie_title.append(title.text)"
   ]
  },
  {
   "cell_type": "code",
   "execution_count": 282,
   "id": "06f42269",
   "metadata": {},
   "outputs": [
    {
     "data": {
      "text/plain": [
       "263"
      ]
     },
     "execution_count": 282,
     "metadata": {},
     "output_type": "execute_result"
    }
   ],
   "source": [
    "len(movie_title)"
   ]
  },
  {
   "cell_type": "code",
   "execution_count": 283,
   "id": "060ca69a",
   "metadata": {},
   "outputs": [],
   "source": [
    "del movie_title[0]"
   ]
  },
  {
   "cell_type": "code",
   "execution_count": 284,
   "id": "007a8036",
   "metadata": {},
   "outputs": [],
   "source": [
    "del movie_title[250:]"
   ]
  },
  {
   "cell_type": "code",
   "execution_count": 285,
   "id": "cb5fde67",
   "metadata": {},
   "outputs": [],
   "source": [
    "name = []\n",
    "for m in movie_title:\n",
    "    name.append(m.split('.')[1])"
   ]
  },
  {
   "cell_type": "code",
   "execution_count": 286,
   "id": "ebdc6230",
   "metadata": {},
   "outputs": [],
   "source": [
    "final_name=[]\n",
    "for n in name:\n",
    "    final_name.append(n.strip(' '))"
   ]
  },
  {
   "cell_type": "code",
   "execution_count": 287,
   "id": "82d3fb62",
   "metadata": {},
   "outputs": [
    {
     "data": {
      "text/plain": [
       "['The Shawshank Redemption',\n",
       " 'The Godfather',\n",
       " 'The Dark Knight',\n",
       " 'The Godfather Part II',\n",
       " '12 Angry Men']"
      ]
     },
     "execution_count": 287,
     "metadata": {},
     "output_type": "execute_result"
    }
   ],
   "source": [
    "final_name[0:5]"
   ]
  },
  {
   "cell_type": "code",
   "execution_count": 288,
   "id": "3e2196c9",
   "metadata": {},
   "outputs": [],
   "source": [
    "release_length_rate = soup.find_all('div', class_='sc-b85248f1-5 kZGNjY cli-title-metadata')"
   ]
  },
  {
   "cell_type": "code",
   "execution_count": 289,
   "id": "b50df182",
   "metadata": {},
   "outputs": [],
   "source": [
    "year = []\n",
    "length = []\n",
    "rating = []\n",
    "\n",
    "for rlr in release_length_rate:\n",
    "    elements=rlr.find_all('span', class_='sc-b85248f1-6 bnDqKN cli-title-metadata-item')\n",
    "    if len(elements) >= 3:\n",
    "        year.append(elements[0].text)\n",
    "        length.append(elements[1].text)\n",
    "        rating.append(elements[2].text)\n",
    "    else:\n",
    "        year.append(elements[0].text)\n",
    "        length.append(elements[1].text)\n",
    "        rating.append('NA')\n",
    "    "
   ]
  },
  {
   "cell_type": "code",
   "execution_count": 290,
   "id": "93cf45f6",
   "metadata": {},
   "outputs": [
    {
     "data": {
      "text/plain": [
       "['2h 22m', '2h 55m', '2h 32m', '3h 22m', '1h 36m']"
      ]
     },
     "execution_count": 290,
     "metadata": {},
     "output_type": "execute_result"
    }
   ],
   "source": [
    "length[0:5]"
   ]
  },
  {
   "cell_type": "code",
   "execution_count": 291,
   "id": "16497866",
   "metadata": {},
   "outputs": [
    {
     "data": {
      "text/plain": [
       "['R', 'R', 'PG-13', 'R', 'Approved']"
      ]
     },
     "execution_count": 291,
     "metadata": {},
     "output_type": "execute_result"
    }
   ],
   "source": [
    "rating[0:5]"
   ]
  },
  {
   "cell_type": "code",
   "execution_count": 292,
   "id": "57581325",
   "metadata": {},
   "outputs": [
    {
     "data": {
      "text/plain": [
       "'1981'"
      ]
     },
     "execution_count": 292,
     "metadata": {},
     "output_type": "execute_result"
    }
   ],
   "source": [
    "year[76]"
   ]
  },
  {
   "cell_type": "code",
   "execution_count": 293,
   "id": "35cc1f46",
   "metadata": {},
   "outputs": [],
   "source": [
    "stars_reviews = soup.find_all('span', class_='ipc-rating-star ipc-rating-star--base ipc-rating-star--imdb ratingGroup--imdb-rating')"
   ]
  },
  {
   "cell_type": "code",
   "execution_count": 294,
   "id": "10511233",
   "metadata": {},
   "outputs": [],
   "source": [
    "stars = []\n",
    "reviews = []\n",
    "for sr in stars_reviews:\n",
    "    stars.append(sr.text.split('(')[0])\n",
    "    reviews.append(sr.text.split('(')[1].replace(')',''))"
   ]
  },
  {
   "cell_type": "code",
   "execution_count": 295,
   "id": "2b92592a",
   "metadata": {},
   "outputs": [
    {
     "data": {
      "text/plain": [
       "['9.3\\xa0', '9.2\\xa0', '9.0\\xa0', '9.0\\xa0', '9.0\\xa0']"
      ]
     },
     "execution_count": 295,
     "metadata": {},
     "output_type": "execute_result"
    }
   ],
   "source": [
    "stars[:5]"
   ]
  },
  {
   "cell_type": "code",
   "execution_count": 296,
   "id": "68d6de49",
   "metadata": {},
   "outputs": [],
   "source": [
    "star = []\n",
    "for _ in stars:\n",
    "    star.append(_[:3])"
   ]
  },
  {
   "cell_type": "code",
   "execution_count": 297,
   "id": "d4a50b7e",
   "metadata": {},
   "outputs": [
    {
     "data": {
      "text/plain": [
       "['9.3', '9.2', '9.0', '9.0', '9.0']"
      ]
     },
     "execution_count": 297,
     "metadata": {},
     "output_type": "execute_result"
    }
   ],
   "source": [
    "star[:5]"
   ]
  },
  {
   "cell_type": "code",
   "execution_count": 298,
   "id": "b67b061f",
   "metadata": {},
   "outputs": [
    {
     "data": {
      "text/plain": [
       "['2.8M', '1.9M', '2.8M', '1.3M', '829K']"
      ]
     },
     "execution_count": 298,
     "metadata": {},
     "output_type": "execute_result"
    }
   ],
   "source": [
    "reviews[:5]"
   ]
  },
  {
   "cell_type": "code",
   "execution_count": 299,
   "id": "de8c14c0",
   "metadata": {},
   "outputs": [],
   "source": [
    "imdb = {\n",
    "    'Title' : final_name,\n",
    "    'Year' : year,\n",
    "    'Length' : length,\n",
    "    'Rating' : rating,\n",
    "    'Stars' : star,\n",
    "    'Reviews':reviews\n",
    "}"
   ]
  },
  {
   "cell_type": "code",
   "execution_count": 300,
   "id": "b68fb89a",
   "metadata": {},
   "outputs": [],
   "source": [
    "df = pd.DataFrame(imdb)"
   ]
  },
  {
   "cell_type": "code",
   "execution_count": 301,
   "id": "d57f4a3e",
   "metadata": {},
   "outputs": [
    {
     "data": {
      "text/html": [
       "<div>\n",
       "<style scoped>\n",
       "    .dataframe tbody tr th:only-of-type {\n",
       "        vertical-align: middle;\n",
       "    }\n",
       "\n",
       "    .dataframe tbody tr th {\n",
       "        vertical-align: top;\n",
       "    }\n",
       "\n",
       "    .dataframe thead th {\n",
       "        text-align: right;\n",
       "    }\n",
       "</style>\n",
       "<table border=\"1\" class=\"dataframe\">\n",
       "  <thead>\n",
       "    <tr style=\"text-align: right;\">\n",
       "      <th></th>\n",
       "      <th>Title</th>\n",
       "      <th>Year</th>\n",
       "      <th>Length</th>\n",
       "      <th>Rating</th>\n",
       "      <th>Stars</th>\n",
       "      <th>Reviews</th>\n",
       "    </tr>\n",
       "  </thead>\n",
       "  <tbody>\n",
       "    <tr>\n",
       "      <th>76</th>\n",
       "      <td>Das Boot</td>\n",
       "      <td>1981</td>\n",
       "      <td>2h 29m</td>\n",
       "      <td>NA</td>\n",
       "      <td>8.4</td>\n",
       "      <td>258K</td>\n",
       "    </tr>\n",
       "  </tbody>\n",
       "</table>\n",
       "</div>"
      ],
      "text/plain": [
       "       Title  Year  Length Rating Stars Reviews\n",
       "76  Das Boot  1981  2h 29m     NA   8.4    258K"
      ]
     },
     "execution_count": 301,
     "metadata": {},
     "output_type": "execute_result"
    }
   ],
   "source": [
    "df.loc[[76]]"
   ]
  },
  {
   "cell_type": "code",
   "execution_count": 302,
   "id": "16c1e2a2",
   "metadata": {},
   "outputs": [],
   "source": [
    "def con(row):\n",
    "    \n",
    "    minutes=df['Length'][row].split(' ')\n",
    "    if len(minutes)>1:\n",
    "        l_min=float(minutes[0][:-1])*60+float(minutes[1][:-1])\n",
    "    else:\n",
    "        l_min=float(minutes[0][:-1])*60\n",
    "    return l_min    "
   ]
  },
  {
   "cell_type": "code",
   "execution_count": 303,
   "id": "db4c0cf1",
   "metadata": {},
   "outputs": [],
   "source": [
    "movie_length = []\n",
    "for _ in range(250):\n",
    "    movie_length.append(con(_))"
   ]
  },
  {
   "cell_type": "code",
   "execution_count": 304,
   "id": "85ad272f",
   "metadata": {},
   "outputs": [],
   "source": [
    "df['Duration(m)']=movie_length"
   ]
  },
  {
   "cell_type": "code",
   "execution_count": 305,
   "id": "5d02bc76",
   "metadata": {},
   "outputs": [],
   "source": [
    "df.drop(['Length'],axis=1,inplace=True)"
   ]
  },
  {
   "cell_type": "code",
   "execution_count": 306,
   "id": "e37bbde0",
   "metadata": {},
   "outputs": [
    {
     "data": {
      "text/html": [
       "<div>\n",
       "<style scoped>\n",
       "    .dataframe tbody tr th:only-of-type {\n",
       "        vertical-align: middle;\n",
       "    }\n",
       "\n",
       "    .dataframe tbody tr th {\n",
       "        vertical-align: top;\n",
       "    }\n",
       "\n",
       "    .dataframe thead th {\n",
       "        text-align: right;\n",
       "    }\n",
       "</style>\n",
       "<table border=\"1\" class=\"dataframe\">\n",
       "  <thead>\n",
       "    <tr style=\"text-align: right;\">\n",
       "      <th></th>\n",
       "      <th>Title</th>\n",
       "      <th>Year</th>\n",
       "      <th>Rating</th>\n",
       "      <th>Stars</th>\n",
       "      <th>Reviews</th>\n",
       "      <th>Duration(m)</th>\n",
       "    </tr>\n",
       "  </thead>\n",
       "  <tbody>\n",
       "    <tr>\n",
       "      <th>0</th>\n",
       "      <td>The Shawshank Redemption</td>\n",
       "      <td>1994</td>\n",
       "      <td>R</td>\n",
       "      <td>9.3</td>\n",
       "      <td>2.8M</td>\n",
       "      <td>142.0</td>\n",
       "    </tr>\n",
       "    <tr>\n",
       "      <th>1</th>\n",
       "      <td>The Godfather</td>\n",
       "      <td>1972</td>\n",
       "      <td>R</td>\n",
       "      <td>9.2</td>\n",
       "      <td>1.9M</td>\n",
       "      <td>175.0</td>\n",
       "    </tr>\n",
       "    <tr>\n",
       "      <th>2</th>\n",
       "      <td>The Dark Knight</td>\n",
       "      <td>2008</td>\n",
       "      <td>PG-13</td>\n",
       "      <td>9.0</td>\n",
       "      <td>2.8M</td>\n",
       "      <td>152.0</td>\n",
       "    </tr>\n",
       "    <tr>\n",
       "      <th>3</th>\n",
       "      <td>The Godfather Part II</td>\n",
       "      <td>1974</td>\n",
       "      <td>R</td>\n",
       "      <td>9.0</td>\n",
       "      <td>1.3M</td>\n",
       "      <td>202.0</td>\n",
       "    </tr>\n",
       "    <tr>\n",
       "      <th>4</th>\n",
       "      <td>12 Angry Men</td>\n",
       "      <td>1957</td>\n",
       "      <td>Approved</td>\n",
       "      <td>9.0</td>\n",
       "      <td>829K</td>\n",
       "      <td>96.0</td>\n",
       "    </tr>\n",
       "    <tr>\n",
       "      <th>...</th>\n",
       "      <td>...</td>\n",
       "      <td>...</td>\n",
       "      <td>...</td>\n",
       "      <td>...</td>\n",
       "      <td>...</td>\n",
       "      <td>...</td>\n",
       "    </tr>\n",
       "    <tr>\n",
       "      <th>245</th>\n",
       "      <td>The Help</td>\n",
       "      <td>2011</td>\n",
       "      <td>PG-13</td>\n",
       "      <td>8.1</td>\n",
       "      <td>478K</td>\n",
       "      <td>146.0</td>\n",
       "    </tr>\n",
       "    <tr>\n",
       "      <th>246</th>\n",
       "      <td>Persona</td>\n",
       "      <td>1966</td>\n",
       "      <td>Not Rated</td>\n",
       "      <td>8.1</td>\n",
       "      <td>126K</td>\n",
       "      <td>85.0</td>\n",
       "    </tr>\n",
       "    <tr>\n",
       "      <th>247</th>\n",
       "      <td>Life of Brian</td>\n",
       "      <td>1979</td>\n",
       "      <td>R</td>\n",
       "      <td>8.0</td>\n",
       "      <td>414K</td>\n",
       "      <td>94.0</td>\n",
       "    </tr>\n",
       "    <tr>\n",
       "      <th>248</th>\n",
       "      <td>Aladdin</td>\n",
       "      <td>1992</td>\n",
       "      <td>G</td>\n",
       "      <td>8.0</td>\n",
       "      <td>447K</td>\n",
       "      <td>90.0</td>\n",
       "    </tr>\n",
       "    <tr>\n",
       "      <th>249</th>\n",
       "      <td>Drishyam</td>\n",
       "      <td>2015</td>\n",
       "      <td>Not Rated</td>\n",
       "      <td>8.2</td>\n",
       "      <td>90K</td>\n",
       "      <td>163.0</td>\n",
       "    </tr>\n",
       "  </tbody>\n",
       "</table>\n",
       "<p>250 rows × 6 columns</p>\n",
       "</div>"
      ],
      "text/plain": [
       "                        Title  Year     Rating Stars Reviews  Duration(m)\n",
       "0    The Shawshank Redemption  1994          R   9.3    2.8M        142.0\n",
       "1               The Godfather  1972          R   9.2    1.9M        175.0\n",
       "2             The Dark Knight  2008      PG-13   9.0    2.8M        152.0\n",
       "3       The Godfather Part II  1974          R   9.0    1.3M        202.0\n",
       "4                12 Angry Men  1957   Approved   9.0    829K         96.0\n",
       "..                        ...   ...        ...   ...     ...          ...\n",
       "245                  The Help  2011      PG-13   8.1    478K        146.0\n",
       "246                   Persona  1966  Not Rated   8.1    126K         85.0\n",
       "247             Life of Brian  1979          R   8.0    414K         94.0\n",
       "248                   Aladdin  1992          G   8.0    447K         90.0\n",
       "249                  Drishyam  2015  Not Rated   8.2     90K        163.0\n",
       "\n",
       "[250 rows x 6 columns]"
      ]
     },
     "execution_count": 306,
     "metadata": {},
     "output_type": "execute_result"
    }
   ],
   "source": [
    "df"
   ]
  },
  {
   "cell_type": "code",
   "execution_count": 307,
   "id": "dfc7d3ec",
   "metadata": {},
   "outputs": [
    {
     "data": {
      "text/plain": [
       "array(['R', 'PG-13', 'Approved', 'PG', '18+', 'Not Rated', 'G', 'Passed',\n",
       "       'NA', 'TV-PG', 'Unrated', 'X', '16+', 'TV-MA', 'GP'], dtype=object)"
      ]
     },
     "execution_count": 307,
     "metadata": {},
     "output_type": "execute_result"
    }
   ],
   "source": [
    "df['Rating'].unique()"
   ]
  },
  {
   "cell_type": "code",
   "execution_count": 308,
   "id": "682634c2",
   "metadata": {},
   "outputs": [
    {
     "data": {
      "text/plain": [
       "15"
      ]
     },
     "execution_count": 308,
     "metadata": {},
     "output_type": "execute_result"
    }
   ],
   "source": [
    "df['Rating'].nunique()"
   ]
  },
  {
   "cell_type": "code",
   "execution_count": 309,
   "id": "cb9febe3",
   "metadata": {},
   "outputs": [
    {
     "data": {
      "text/html": [
       "<div>\n",
       "<style scoped>\n",
       "    .dataframe tbody tr th:only-of-type {\n",
       "        vertical-align: middle;\n",
       "    }\n",
       "\n",
       "    .dataframe tbody tr th {\n",
       "        vertical-align: top;\n",
       "    }\n",
       "\n",
       "    .dataframe thead th {\n",
       "        text-align: right;\n",
       "    }\n",
       "</style>\n",
       "<table border=\"1\" class=\"dataframe\">\n",
       "  <thead>\n",
       "    <tr style=\"text-align: right;\">\n",
       "      <th></th>\n",
       "      <th>Title</th>\n",
       "      <th>Year</th>\n",
       "      <th>Stars</th>\n",
       "      <th>Reviews</th>\n",
       "      <th>Duration(m)</th>\n",
       "    </tr>\n",
       "    <tr>\n",
       "      <th>Rating</th>\n",
       "      <th></th>\n",
       "      <th></th>\n",
       "      <th></th>\n",
       "      <th></th>\n",
       "      <th></th>\n",
       "    </tr>\n",
       "  </thead>\n",
       "  <tbody>\n",
       "    <tr>\n",
       "      <th>R</th>\n",
       "      <td>97</td>\n",
       "      <td>97</td>\n",
       "      <td>97</td>\n",
       "      <td>97</td>\n",
       "      <td>97</td>\n",
       "    </tr>\n",
       "    <tr>\n",
       "      <th>PG</th>\n",
       "      <td>37</td>\n",
       "      <td>37</td>\n",
       "      <td>37</td>\n",
       "      <td>37</td>\n",
       "      <td>37</td>\n",
       "    </tr>\n",
       "    <tr>\n",
       "      <th>PG-13</th>\n",
       "      <td>34</td>\n",
       "      <td>34</td>\n",
       "      <td>34</td>\n",
       "      <td>34</td>\n",
       "      <td>34</td>\n",
       "    </tr>\n",
       "    <tr>\n",
       "      <th>Not Rated</th>\n",
       "      <td>25</td>\n",
       "      <td>25</td>\n",
       "      <td>25</td>\n",
       "      <td>25</td>\n",
       "      <td>25</td>\n",
       "    </tr>\n",
       "    <tr>\n",
       "      <th>G</th>\n",
       "      <td>18</td>\n",
       "      <td>18</td>\n",
       "      <td>18</td>\n",
       "      <td>18</td>\n",
       "      <td>18</td>\n",
       "    </tr>\n",
       "    <tr>\n",
       "      <th>Passed</th>\n",
       "      <td>16</td>\n",
       "      <td>16</td>\n",
       "      <td>16</td>\n",
       "      <td>16</td>\n",
       "      <td>16</td>\n",
       "    </tr>\n",
       "    <tr>\n",
       "      <th>Approved</th>\n",
       "      <td>14</td>\n",
       "      <td>14</td>\n",
       "      <td>14</td>\n",
       "      <td>14</td>\n",
       "      <td>14</td>\n",
       "    </tr>\n",
       "    <tr>\n",
       "      <th>18+</th>\n",
       "      <td>2</td>\n",
       "      <td>2</td>\n",
       "      <td>2</td>\n",
       "      <td>2</td>\n",
       "      <td>2</td>\n",
       "    </tr>\n",
       "    <tr>\n",
       "      <th>16+</th>\n",
       "      <td>1</td>\n",
       "      <td>1</td>\n",
       "      <td>1</td>\n",
       "      <td>1</td>\n",
       "      <td>1</td>\n",
       "    </tr>\n",
       "    <tr>\n",
       "      <th>GP</th>\n",
       "      <td>1</td>\n",
       "      <td>1</td>\n",
       "      <td>1</td>\n",
       "      <td>1</td>\n",
       "      <td>1</td>\n",
       "    </tr>\n",
       "    <tr>\n",
       "      <th>NA</th>\n",
       "      <td>1</td>\n",
       "      <td>1</td>\n",
       "      <td>1</td>\n",
       "      <td>1</td>\n",
       "      <td>1</td>\n",
       "    </tr>\n",
       "    <tr>\n",
       "      <th>TV-MA</th>\n",
       "      <td>1</td>\n",
       "      <td>1</td>\n",
       "      <td>1</td>\n",
       "      <td>1</td>\n",
       "      <td>1</td>\n",
       "    </tr>\n",
       "    <tr>\n",
       "      <th>TV-PG</th>\n",
       "      <td>1</td>\n",
       "      <td>1</td>\n",
       "      <td>1</td>\n",
       "      <td>1</td>\n",
       "      <td>1</td>\n",
       "    </tr>\n",
       "    <tr>\n",
       "      <th>Unrated</th>\n",
       "      <td>1</td>\n",
       "      <td>1</td>\n",
       "      <td>1</td>\n",
       "      <td>1</td>\n",
       "      <td>1</td>\n",
       "    </tr>\n",
       "    <tr>\n",
       "      <th>X</th>\n",
       "      <td>1</td>\n",
       "      <td>1</td>\n",
       "      <td>1</td>\n",
       "      <td>1</td>\n",
       "      <td>1</td>\n",
       "    </tr>\n",
       "  </tbody>\n",
       "</table>\n",
       "</div>"
      ],
      "text/plain": [
       "           Title  Year  Stars  Reviews  Duration(m)\n",
       "Rating                                             \n",
       "R             97    97     97       97           97\n",
       "PG            37    37     37       37           37\n",
       "PG-13         34    34     34       34           34\n",
       "Not Rated     25    25     25       25           25\n",
       "G             18    18     18       18           18\n",
       "Passed        16    16     16       16           16\n",
       "Approved      14    14     14       14           14\n",
       "18+            2     2      2        2            2\n",
       "16+            1     1      1        1            1\n",
       "GP             1     1      1        1            1\n",
       "NA             1     1      1        1            1\n",
       "TV-MA          1     1      1        1            1\n",
       "TV-PG          1     1      1        1            1\n",
       "Unrated        1     1      1        1            1\n",
       "X              1     1      1        1            1"
      ]
     },
     "execution_count": 309,
     "metadata": {},
     "output_type": "execute_result"
    }
   ],
   "source": [
    "df.groupby(['Rating']).count().sort_values(by='Title',ascending=False)"
   ]
  },
  {
   "cell_type": "code",
   "execution_count": 310,
   "id": "8e6f49b8",
   "metadata": {},
   "outputs": [],
   "source": [
    "df['Rating'].replace(['NA','Unrated'],'Not Rated',inplace=True)\n",
    "df['Rating'].replace(['Passed','Approved'],'G',inplace=True)\n",
    "df['Rating'].replace(['GP','TV-PG'],'PG',inplace=True)\n",
    "df['Rating'].replace(['X','TV-MA','18+','16+'],'R',inplace=True)"
   ]
  },
  {
   "cell_type": "code",
   "execution_count": 311,
   "id": "dfb4e3ab",
   "metadata": {},
   "outputs": [
    {
     "data": {
      "text/plain": [
       "array(['R', 'PG-13', 'G', 'PG', 'Not Rated'], dtype=object)"
      ]
     },
     "execution_count": 311,
     "metadata": {},
     "output_type": "execute_result"
    }
   ],
   "source": [
    "df['Rating'].unique()"
   ]
  },
  {
   "cell_type": "code",
   "execution_count": 312,
   "id": "166824cc",
   "metadata": {},
   "outputs": [
    {
     "data": {
      "text/html": [
       "<div>\n",
       "<style scoped>\n",
       "    .dataframe tbody tr th:only-of-type {\n",
       "        vertical-align: middle;\n",
       "    }\n",
       "\n",
       "    .dataframe tbody tr th {\n",
       "        vertical-align: top;\n",
       "    }\n",
       "\n",
       "    .dataframe thead th {\n",
       "        text-align: right;\n",
       "    }\n",
       "</style>\n",
       "<table border=\"1\" class=\"dataframe\">\n",
       "  <thead>\n",
       "    <tr style=\"text-align: right;\">\n",
       "      <th></th>\n",
       "      <th>Title</th>\n",
       "      <th>Year</th>\n",
       "      <th>Stars</th>\n",
       "      <th>Reviews</th>\n",
       "      <th>Duration(m)</th>\n",
       "    </tr>\n",
       "    <tr>\n",
       "      <th>Rating</th>\n",
       "      <th></th>\n",
       "      <th></th>\n",
       "      <th></th>\n",
       "      <th></th>\n",
       "      <th></th>\n",
       "    </tr>\n",
       "  </thead>\n",
       "  <tbody>\n",
       "    <tr>\n",
       "      <th>R</th>\n",
       "      <td>102</td>\n",
       "      <td>102</td>\n",
       "      <td>102</td>\n",
       "      <td>102</td>\n",
       "      <td>102</td>\n",
       "    </tr>\n",
       "    <tr>\n",
       "      <th>G</th>\n",
       "      <td>48</td>\n",
       "      <td>48</td>\n",
       "      <td>48</td>\n",
       "      <td>48</td>\n",
       "      <td>48</td>\n",
       "    </tr>\n",
       "    <tr>\n",
       "      <th>PG</th>\n",
       "      <td>39</td>\n",
       "      <td>39</td>\n",
       "      <td>39</td>\n",
       "      <td>39</td>\n",
       "      <td>39</td>\n",
       "    </tr>\n",
       "    <tr>\n",
       "      <th>PG-13</th>\n",
       "      <td>34</td>\n",
       "      <td>34</td>\n",
       "      <td>34</td>\n",
       "      <td>34</td>\n",
       "      <td>34</td>\n",
       "    </tr>\n",
       "    <tr>\n",
       "      <th>Not Rated</th>\n",
       "      <td>27</td>\n",
       "      <td>27</td>\n",
       "      <td>27</td>\n",
       "      <td>27</td>\n",
       "      <td>27</td>\n",
       "    </tr>\n",
       "  </tbody>\n",
       "</table>\n",
       "</div>"
      ],
      "text/plain": [
       "           Title  Year  Stars  Reviews  Duration(m)\n",
       "Rating                                             \n",
       "R            102   102    102      102          102\n",
       "G             48    48     48       48           48\n",
       "PG            39    39     39       39           39\n",
       "PG-13         34    34     34       34           34\n",
       "Not Rated     27    27     27       27           27"
      ]
     },
     "execution_count": 312,
     "metadata": {},
     "output_type": "execute_result"
    }
   ],
   "source": [
    "df.groupby(['Rating']).count().sort_values(by='Title',ascending=False)"
   ]
  },
  {
   "cell_type": "code",
   "execution_count": 313,
   "id": "1d3b6fd9",
   "metadata": {},
   "outputs": [
    {
     "data": {
      "text/html": [
       "<div>\n",
       "<style scoped>\n",
       "    .dataframe tbody tr th:only-of-type {\n",
       "        vertical-align: middle;\n",
       "    }\n",
       "\n",
       "    .dataframe tbody tr th {\n",
       "        vertical-align: top;\n",
       "    }\n",
       "\n",
       "    .dataframe thead th {\n",
       "        text-align: right;\n",
       "    }\n",
       "</style>\n",
       "<table border=\"1\" class=\"dataframe\">\n",
       "  <thead>\n",
       "    <tr style=\"text-align: right;\">\n",
       "      <th></th>\n",
       "      <th>Title</th>\n",
       "      <th>Year</th>\n",
       "      <th>Rating</th>\n",
       "      <th>Stars</th>\n",
       "      <th>Reviews</th>\n",
       "      <th>Duration(m)</th>\n",
       "    </tr>\n",
       "  </thead>\n",
       "  <tbody>\n",
       "    <tr>\n",
       "      <th>0</th>\n",
       "      <td>The Shawshank Redemption</td>\n",
       "      <td>1994</td>\n",
       "      <td>R</td>\n",
       "      <td>9.3</td>\n",
       "      <td>2.8M</td>\n",
       "      <td>142.0</td>\n",
       "    </tr>\n",
       "    <tr>\n",
       "      <th>1</th>\n",
       "      <td>The Godfather</td>\n",
       "      <td>1972</td>\n",
       "      <td>R</td>\n",
       "      <td>9.2</td>\n",
       "      <td>1.9M</td>\n",
       "      <td>175.0</td>\n",
       "    </tr>\n",
       "    <tr>\n",
       "      <th>2</th>\n",
       "      <td>The Dark Knight</td>\n",
       "      <td>2008</td>\n",
       "      <td>PG-13</td>\n",
       "      <td>9.0</td>\n",
       "      <td>2.8M</td>\n",
       "      <td>152.0</td>\n",
       "    </tr>\n",
       "    <tr>\n",
       "      <th>3</th>\n",
       "      <td>The Godfather Part II</td>\n",
       "      <td>1974</td>\n",
       "      <td>R</td>\n",
       "      <td>9.0</td>\n",
       "      <td>1.3M</td>\n",
       "      <td>202.0</td>\n",
       "    </tr>\n",
       "    <tr>\n",
       "      <th>4</th>\n",
       "      <td>12 Angry Men</td>\n",
       "      <td>1957</td>\n",
       "      <td>G</td>\n",
       "      <td>9.0</td>\n",
       "      <td>829K</td>\n",
       "      <td>96.0</td>\n",
       "    </tr>\n",
       "  </tbody>\n",
       "</table>\n",
       "</div>"
      ],
      "text/plain": [
       "                      Title  Year Rating Stars Reviews  Duration(m)\n",
       "0  The Shawshank Redemption  1994      R   9.3    2.8M        142.0\n",
       "1             The Godfather  1972      R   9.2    1.9M        175.0\n",
       "2           The Dark Knight  2008  PG-13   9.0    2.8M        152.0\n",
       "3     The Godfather Part II  1974      R   9.0    1.3M        202.0\n",
       "4              12 Angry Men  1957      G   9.0    829K         96.0"
      ]
     },
     "execution_count": 313,
     "metadata": {},
     "output_type": "execute_result"
    }
   ],
   "source": [
    "df.head()"
   ]
  },
  {
   "cell_type": "code",
   "execution_count": 327,
   "id": "1cd208f1",
   "metadata": {},
   "outputs": [],
   "source": [
    "Review = []\n",
    "for _ in range(len(df)):\n",
    "    if df['Reviews'][_][-1]=='M':\n",
    "        Review.append(float(df['Reviews'][_][:-1])*1000000)\n",
    "    elif df['Reviews'][_][-1]=='K':\n",
    "        Review.append(float(df['Reviews'][_][:-1])*1000)\n",
    "    else:\n",
    "        Review.append(float(df['Reviews'][_][:-1]))"
   ]
  },
  {
   "cell_type": "code",
   "execution_count": 329,
   "id": "94ab25cd",
   "metadata": {},
   "outputs": [],
   "source": [
    "df['Review']=Review"
   ]
  },
  {
   "cell_type": "code",
   "execution_count": 331,
   "id": "df4c3b32",
   "metadata": {},
   "outputs": [],
   "source": [
    "df.drop(['Reviews'],axis=1,inplace=True)"
   ]
  },
  {
   "cell_type": "code",
   "execution_count": 332,
   "id": "cff9e839",
   "metadata": {},
   "outputs": [
    {
     "data": {
      "text/html": [
       "<div>\n",
       "<style scoped>\n",
       "    .dataframe tbody tr th:only-of-type {\n",
       "        vertical-align: middle;\n",
       "    }\n",
       "\n",
       "    .dataframe tbody tr th {\n",
       "        vertical-align: top;\n",
       "    }\n",
       "\n",
       "    .dataframe thead th {\n",
       "        text-align: right;\n",
       "    }\n",
       "</style>\n",
       "<table border=\"1\" class=\"dataframe\">\n",
       "  <thead>\n",
       "    <tr style=\"text-align: right;\">\n",
       "      <th></th>\n",
       "      <th>Title</th>\n",
       "      <th>Year</th>\n",
       "      <th>Rating</th>\n",
       "      <th>Stars</th>\n",
       "      <th>Duration(m)</th>\n",
       "      <th>Review</th>\n",
       "    </tr>\n",
       "  </thead>\n",
       "  <tbody>\n",
       "    <tr>\n",
       "      <th>0</th>\n",
       "      <td>The Shawshank Redemption</td>\n",
       "      <td>1994</td>\n",
       "      <td>R</td>\n",
       "      <td>9.3</td>\n",
       "      <td>142.0</td>\n",
       "      <td>2800000.0</td>\n",
       "    </tr>\n",
       "    <tr>\n",
       "      <th>1</th>\n",
       "      <td>The Godfather</td>\n",
       "      <td>1972</td>\n",
       "      <td>R</td>\n",
       "      <td>9.2</td>\n",
       "      <td>175.0</td>\n",
       "      <td>1900000.0</td>\n",
       "    </tr>\n",
       "    <tr>\n",
       "      <th>2</th>\n",
       "      <td>The Dark Knight</td>\n",
       "      <td>2008</td>\n",
       "      <td>PG-13</td>\n",
       "      <td>9.0</td>\n",
       "      <td>152.0</td>\n",
       "      <td>2800000.0</td>\n",
       "    </tr>\n",
       "    <tr>\n",
       "      <th>3</th>\n",
       "      <td>The Godfather Part II</td>\n",
       "      <td>1974</td>\n",
       "      <td>R</td>\n",
       "      <td>9.0</td>\n",
       "      <td>202.0</td>\n",
       "      <td>1300000.0</td>\n",
       "    </tr>\n",
       "    <tr>\n",
       "      <th>4</th>\n",
       "      <td>12 Angry Men</td>\n",
       "      <td>1957</td>\n",
       "      <td>G</td>\n",
       "      <td>9.0</td>\n",
       "      <td>96.0</td>\n",
       "      <td>829000.0</td>\n",
       "    </tr>\n",
       "  </tbody>\n",
       "</table>\n",
       "</div>"
      ],
      "text/plain": [
       "                      Title  Year Rating Stars  Duration(m)     Review\n",
       "0  The Shawshank Redemption  1994      R   9.3        142.0  2800000.0\n",
       "1             The Godfather  1972      R   9.2        175.0  1900000.0\n",
       "2           The Dark Knight  2008  PG-13   9.0        152.0  2800000.0\n",
       "3     The Godfather Part II  1974      R   9.0        202.0  1300000.0\n",
       "4              12 Angry Men  1957      G   9.0         96.0   829000.0"
      ]
     },
     "execution_count": 332,
     "metadata": {},
     "output_type": "execute_result"
    }
   ],
   "source": [
    "df.head()"
   ]
  },
  {
   "cell_type": "code",
   "execution_count": null,
   "id": "79ca1a64",
   "metadata": {},
   "outputs": [],
   "source": []
  }
 ],
 "metadata": {
  "kernelspec": {
   "display_name": "Python 3 (ipykernel)",
   "language": "python",
   "name": "python3"
  },
  "language_info": {
   "codemirror_mode": {
    "name": "ipython",
    "version": 3
   },
   "file_extension": ".py",
   "mimetype": "text/x-python",
   "name": "python",
   "nbconvert_exporter": "python",
   "pygments_lexer": "ipython3",
   "version": "3.10.5"
  }
 },
 "nbformat": 4,
 "nbformat_minor": 5
}
